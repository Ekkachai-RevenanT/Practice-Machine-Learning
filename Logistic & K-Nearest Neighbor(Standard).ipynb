{
 "cells": [
  {
   "cell_type": "code",
   "execution_count": 2,
   "id": "210a5a7a-b47e-4d29-948d-ed8b7b68a406",
   "metadata": {},
   "outputs": [],
   "source": [
    "import pandas as pd\n",
    "from sklearn.metrics import accuracy_score\n",
    "from sklearn.metrics import confusion_matrix, ConfusionMatrixDisplay\n",
    "from sklearn.model_selection import train_test_split\n",
    "from sklearn.linear_model import LogisticRegression\n",
    "from sklearn.neighbors import KNeighborsClassifier\n"
   ]
  },
  {
   "cell_type": "code",
   "execution_count": 3,
   "id": "38f3bd41-e28f-45a2-a55b-0b81a4145da4",
   "metadata": {},
   "outputs": [
    {
     "data": {
      "text/html": [
       "<div>\n",
       "<style scoped>\n",
       "    .dataframe tbody tr th:only-of-type {\n",
       "        vertical-align: middle;\n",
       "    }\n",
       "\n",
       "    .dataframe tbody tr th {\n",
       "        vertical-align: top;\n",
       "    }\n",
       "\n",
       "    .dataframe thead th {\n",
       "        text-align: right;\n",
       "    }\n",
       "</style>\n",
       "<table border=\"1\" class=\"dataframe\">\n",
       "  <thead>\n",
       "    <tr style=\"text-align: right;\">\n",
       "      <th></th>\n",
       "      <th>Age</th>\n",
       "      <th>Sex_M</th>\n",
       "      <th>ChestPainType_ATA</th>\n",
       "      <th>ChestPainType_NAP</th>\n",
       "      <th>ChestPainType_ASY</th>\n",
       "      <th>ChestPainType_TA</th>\n",
       "      <th>RestingBP</th>\n",
       "      <th>Cholesterol</th>\n",
       "      <th>FastingBS</th>\n",
       "      <th>RestingECG_Normal</th>\n",
       "      <th>RestingECG_ST</th>\n",
       "      <th>RestingECG_LVH</th>\n",
       "      <th>MaxHR</th>\n",
       "      <th>ExerciseAngina_Y</th>\n",
       "      <th>Oldpeak</th>\n",
       "      <th>ST_Slope_Down</th>\n",
       "      <th>ST_Slope_Flat</th>\n",
       "      <th>ST_Slope_Up</th>\n",
       "    </tr>\n",
       "  </thead>\n",
       "  <tbody>\n",
       "    <tr>\n",
       "      <th>0</th>\n",
       "      <td>-1.433371</td>\n",
       "      <td>1.0</td>\n",
       "      <td>1.0</td>\n",
       "      <td>0.0</td>\n",
       "      <td>0.0</td>\n",
       "      <td>0.0</td>\n",
       "      <td>0.410909</td>\n",
       "      <td>0.825070</td>\n",
       "      <td>-0.551341</td>\n",
       "      <td>1.0</td>\n",
       "      <td>0.0</td>\n",
       "      <td>0.0</td>\n",
       "      <td>1.382928</td>\n",
       "      <td>0.0</td>\n",
       "      <td>-0.832432</td>\n",
       "      <td>0.0</td>\n",
       "      <td>0.0</td>\n",
       "      <td>1.0</td>\n",
       "    </tr>\n",
       "    <tr>\n",
       "      <th>1</th>\n",
       "      <td>-0.478715</td>\n",
       "      <td>0.0</td>\n",
       "      <td>0.0</td>\n",
       "      <td>1.0</td>\n",
       "      <td>0.0</td>\n",
       "      <td>0.0</td>\n",
       "      <td>1.491752</td>\n",
       "      <td>-0.171961</td>\n",
       "      <td>-0.551341</td>\n",
       "      <td>1.0</td>\n",
       "      <td>0.0</td>\n",
       "      <td>0.0</td>\n",
       "      <td>0.754157</td>\n",
       "      <td>0.0</td>\n",
       "      <td>0.105664</td>\n",
       "      <td>0.0</td>\n",
       "      <td>1.0</td>\n",
       "      <td>0.0</td>\n",
       "    </tr>\n",
       "    <tr>\n",
       "      <th>2</th>\n",
       "      <td>-1.751590</td>\n",
       "      <td>1.0</td>\n",
       "      <td>1.0</td>\n",
       "      <td>0.0</td>\n",
       "      <td>0.0</td>\n",
       "      <td>0.0</td>\n",
       "      <td>-0.129513</td>\n",
       "      <td>0.770188</td>\n",
       "      <td>-0.551341</td>\n",
       "      <td>0.0</td>\n",
       "      <td>1.0</td>\n",
       "      <td>0.0</td>\n",
       "      <td>-1.525138</td>\n",
       "      <td>0.0</td>\n",
       "      <td>-0.832432</td>\n",
       "      <td>0.0</td>\n",
       "      <td>0.0</td>\n",
       "      <td>1.0</td>\n",
       "    </tr>\n",
       "    <tr>\n",
       "      <th>3</th>\n",
       "      <td>-0.584788</td>\n",
       "      <td>0.0</td>\n",
       "      <td>0.0</td>\n",
       "      <td>0.0</td>\n",
       "      <td>1.0</td>\n",
       "      <td>0.0</td>\n",
       "      <td>0.302825</td>\n",
       "      <td>0.139040</td>\n",
       "      <td>-0.551341</td>\n",
       "      <td>1.0</td>\n",
       "      <td>0.0</td>\n",
       "      <td>0.0</td>\n",
       "      <td>-1.132156</td>\n",
       "      <td>1.0</td>\n",
       "      <td>0.574711</td>\n",
       "      <td>0.0</td>\n",
       "      <td>1.0</td>\n",
       "      <td>0.0</td>\n",
       "    </tr>\n",
       "    <tr>\n",
       "      <th>4</th>\n",
       "      <td>0.051650</td>\n",
       "      <td>1.0</td>\n",
       "      <td>0.0</td>\n",
       "      <td>1.0</td>\n",
       "      <td>0.0</td>\n",
       "      <td>0.0</td>\n",
       "      <td>0.951331</td>\n",
       "      <td>-0.034755</td>\n",
       "      <td>-0.551341</td>\n",
       "      <td>1.0</td>\n",
       "      <td>0.0</td>\n",
       "      <td>0.0</td>\n",
       "      <td>-0.581981</td>\n",
       "      <td>0.0</td>\n",
       "      <td>-0.832432</td>\n",
       "      <td>0.0</td>\n",
       "      <td>0.0</td>\n",
       "      <td>1.0</td>\n",
       "    </tr>\n",
       "  </tbody>\n",
       "</table>\n",
       "</div>"
      ],
      "text/plain": [
       "        Age  Sex_M  ChestPainType_ATA  ChestPainType_NAP  ChestPainType_ASY  \\\n",
       "0 -1.433371    1.0                1.0                0.0                0.0   \n",
       "1 -0.478715    0.0                0.0                1.0                0.0   \n",
       "2 -1.751590    1.0                1.0                0.0                0.0   \n",
       "3 -0.584788    0.0                0.0                0.0                1.0   \n",
       "4  0.051650    1.0                0.0                1.0                0.0   \n",
       "\n",
       "   ChestPainType_TA  RestingBP  Cholesterol  FastingBS  RestingECG_Normal  \\\n",
       "0               0.0   0.410909     0.825070  -0.551341                1.0   \n",
       "1               0.0   1.491752    -0.171961  -0.551341                1.0   \n",
       "2               0.0  -0.129513     0.770188  -0.551341                0.0   \n",
       "3               0.0   0.302825     0.139040  -0.551341                1.0   \n",
       "4               0.0   0.951331    -0.034755  -0.551341                1.0   \n",
       "\n",
       "   RestingECG_ST  RestingECG_LVH     MaxHR  ExerciseAngina_Y   Oldpeak  \\\n",
       "0            0.0             0.0  1.382928               0.0 -0.832432   \n",
       "1            0.0             0.0  0.754157               0.0  0.105664   \n",
       "2            1.0             0.0 -1.525138               0.0 -0.832432   \n",
       "3            0.0             0.0 -1.132156               1.0  0.574711   \n",
       "4            0.0             0.0 -0.581981               0.0 -0.832432   \n",
       "\n",
       "   ST_Slope_Down  ST_Slope_Flat  ST_Slope_Up  \n",
       "0            0.0            0.0          1.0  \n",
       "1            0.0            1.0          0.0  \n",
       "2            0.0            0.0          1.0  \n",
       "3            0.0            1.0          0.0  \n",
       "4            0.0            0.0          1.0  "
      ]
     },
     "metadata": {},
     "output_type": "display_data"
    },
    {
     "data": {
      "text/plain": [
       "0    0\n",
       "1    1\n",
       "2    0\n",
       "3    1\n",
       "4    0\n",
       "Name: HeartDisease, dtype: int64"
      ]
     },
     "metadata": {},
     "output_type": "display_data"
    },
    {
     "name": "stdout",
     "output_type": "stream",
     "text": [
      "X_train (row/columns): (734, 18)\n",
      "y_train (row): (734,)\n",
      "X_test(row/columns): (184, 18)\n",
      "y_test (row): (184,)\n",
      "Model Accuracy:  0.8532608695652174\n"
     ]
    },
    {
     "data": {
      "text/plain": [
       "<sklearn.metrics._plot.confusion_matrix.ConfusionMatrixDisplay at 0x18072ca6ca0>"
      ]
     },
     "execution_count": 3,
     "metadata": {},
     "output_type": "execute_result"
    },
    {
     "data": {
      "image/png": "[encoded data removed]",
      "text/plain": [
       "<Figure size 640x480 with 2 Axes>"
      ]
     },
     "metadata": {},
     "output_type": "display_data"
    }
   ],
   "source": [
    "df = pd.read_csv('./data/df_finish_standard.csv')\n",
    "\n",
    "X = df[df.columns[:-1]]\n",
    "y = df['HeartDisease']\n",
    "\n",
    "display(X.head())\n",
    "display(y.head())\n",
    "\n",
    "X_train, X_test, y_train, y_test = train_test_split(  X, y, test_size=0.20, random_state=42)\n",
    "\n",
    "print('X_train (row/columns):',X_train.shape)\n",
    "print('y_train (row):',y_train.shape)\n",
    "print('X_test(row/columns):',X_test.shape)\n",
    "print('y_test (row):',y_test.shape)\n",
    "\n",
    "classifier =  LogisticRegression()\n",
    "classifier.fit(X_train,y_train)\n",
    "\n",
    "y_predict = classifier.predict(X_test)\n",
    "y_score = classifier.predict_proba(X_test)[:,1]\n",
    "\n",
    "print(\"Model Accuracy: \",accuracy_score(y_test,y_predict))\n",
    "\n",
    "cm = confusion_matrix(y_test, y_predict)\n",
    "ConfusionMatrixDisplay(cm).plot()"
   ]
  },
  {
   "cell_type": "code",
   "execution_count": 5,
   "id": "079bfc59-d375-484a-9a16-4708f29dd534",
   "metadata": {},
   "outputs": [
    {
     "name": "stdout",
     "output_type": "stream",
     "text": [
      "X_train (row/columns): (734, 18)\n",
      "y_train (row): (734,)\n",
      "X_test(row/columns): (184, 18)\n",
      "y_test (row): (184,)\n",
      "Accuracy: 0.8695652173913043\n"
     ]
    },
    {
     "data": {
      "text/plain": [
       "<sklearn.metrics._plot.confusion_matrix.ConfusionMatrixDisplay at 0x18016de0fd0>"
      ]
     },
     "execution_count": 5,
     "metadata": {},
     "output_type": "execute_result"
    },
    {
     "data": {
      "image/png": "[encoded data removed]",
      "text/plain": [
       "<Figure size 640x480 with 2 Axes>"
      ]
     },
     "metadata": {},
     "output_type": "display_data"
    }
   ],
   "source": [
    "# X = df[df.columns[:-1]]\n",
    "# y = df['HeartDisease']\n",
    "\n",
    "# display(X.head())\n",
    "# display(y.head())\n",
    "# X_train, X_test, y_train, y_test = train_test_split(  X, y, test_size = 0.20, random_state=42)\n",
    "\n",
    "print('X_train (row/columns):',X_train.shape)\n",
    "print('y_train (row):',y_train.shape)\n",
    "print('X_test(row/columns):',X_test.shape)\n",
    "print('y_test (row):',y_test.shape)\n",
    "\n",
    "knn = KNeighborsClassifier(n_neighbors = 5)  \n",
    "knn.fit(X_train, y_train)\n",
    "\n",
    "y_pred = knn.predict(X_test)\n",
    "\n",
    "# Evaluate\n",
    "print(\"Accuracy:\", accuracy_score(y_test, y_pred))\n",
    "\n",
    "cm = confusion_matrix(y_test, y_predict)\n",
    "ConfusionMatrixDisplay(cm).plot()"
   ]
  },
  {
   "cell_type": "code",
   "execution_count": null,
   "id": "0434ce11-6bf8-4125-8fca-637b5424cf3a",
   "metadata": {},
   "outputs": [],
   "source": []
  }
 ],
 "metadata": {
  "kernelspec": {
   "display_name": "Python 3 (ipykernel)",
   "language": "python",
   "name": "python3"
  },
  "language_info": {
   "codemirror_mode": {
    "name": "ipython",
    "version": 3
   },
   "file_extension": ".py",
   "mimetype": "text/x-python",
   "name": "python",
   "nbconvert_exporter": "python",
   "pygments_lexer": "ipython3",
   "version": "3.9.23"
  }
 },
 "nbformat": 4,
 "nbformat_minor": 5
}
